{
  "nbformat": 4,
  "nbformat_minor": 0,
  "metadata": {
    "colab": {
      "provenance": []
    },
    "kernelspec": {
      "name": "python3",
      "display_name": "Python 3"
    },
    "language_info": {
      "name": "python"
    }
  },
  "cells": [
    {
      "cell_type": "markdown",
      "source": [
        "covert to list into dictionary using enumerate."
      ],
      "metadata": {
        "id": "cLjNZW3_VE24"
      }
    },
    {
      "cell_type": "code",
      "execution_count": 1,
      "metadata": {
        "colab": {
          "base_uri": "https://localhost:8080/"
        },
        "id": "1NTo1aVbUzXb",
        "outputId": "471ff8b6-72a4-43b3-ff1d-17a79f7c7451"
      },
      "outputs": [
        {
          "output_type": "stream",
          "name": "stdout",
          "text": [
            "{0: 1, 1: 2, 2: 3, 3: 4}\n"
          ]
        }
      ],
      "source": [
        "List1 = [1, 2, 3, 4]\n",
        "dictionary = {}\n",
        "for index, value in enumerate(List1):\n",
        "    dictionary[index]=value\n",
        "print(dictionary)"
      ]
    },
    {
      "cell_type": "code",
      "source": [
        "List1 = [1, 2, 3, 4]\n",
        "dictionary = {index: value for index, value in enumerate(List1)}\n",
        "print(dictionary)"
      ],
      "metadata": {
        "colab": {
          "base_uri": "https://localhost:8080/"
        },
        "id": "peWDICh0VNZi",
        "outputId": "51dcb310-1f93-4690-b41c-de3b6d8ce34f"
      },
      "execution_count": 2,
      "outputs": [
        {
          "output_type": "stream",
          "name": "stdout",
          "text": [
            "{0: 1, 1: 2, 2: 3, 3: 4}\n"
          ]
        }
      ]
    }
  ]
}